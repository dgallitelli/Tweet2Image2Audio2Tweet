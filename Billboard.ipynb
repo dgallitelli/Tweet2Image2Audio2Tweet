{
 "cells": [
  {
   "cell_type": "code",
   "execution_count": null,
   "metadata": {},
   "outputs": [],
   "source": [
    "import os\n",
    "\n",
    "os.environ['TWITT_CONS_KEY']=\"\"\n",
    "os.environ['TWITT_CONS_SECRET']=\"\"\n",
    "os.environ['TWITT_ACCESS_KEY']=\"\"\n",
    "os.environ['TWITT_ACCESS_SECRET']=\"\"\n",
    "os.environ['TWITT_USERNAME']=\"\""
   ]
  },
  {
   "cell_type": "markdown",
   "metadata": {
    "slideshow": {
     "slide_type": "slide"
    }
   },
   "source": [
    "# Billboard project\n",
    "AKA: \"Image To Text To Translate To Speech\"\n",
    "\n",
    "The flow of the program is pretty straight-froward. We use 4 different high-level AI APIs provided by AWS to read text from an image. Access to those APIs is provided by the *Boto3* python library."
   ]
  },
  {
   "cell_type": "code",
   "execution_count": null,
   "metadata": {
    "slideshow": {
     "slide_type": "slide"
    }
   },
   "outputs": [],
   "source": [
    "# Libs\n",
    "import boto3\n",
    "import pygame\n",
    "import json\n",
    "import urllib, time\n",
    "from twython import TwythonStreamer\n",
    "\n",
    "\n",
    "# Global vars\n",
    "defaultRegion = 'eu-west-1'\n",
    "bucket = 'billboard-demo'\n",
    "folder = ''\n",
    "image_name = 'quote.jpg'\n",
    "# Twitter connection params\n",
    "cons_key = os.environ['TWITT_CONS_KEY']\n",
    "cons_secret = os.environ['TWITT_CONS_SECRET']\n",
    "access_key = os.environ['TWITT_ACCESS_KEY']\n",
    "access_secret = os.environ['TWITT_ACCESS_SECRET']\n",
    "twitter_username = os.environ['TWITT_USERNAME']"
   ]
  },
  {
   "cell_type": "code",
   "execution_count": null,
   "metadata": {},
   "outputs": [],
   "source": [
    "# A handy dictionary with language-voice pair\n",
    "lan_voice = {\n",
    "    'en': 'Brian',\n",
    "    'fr': 'Mathieu',\n",
    "    'it': 'Carla',\n",
    "    'es': 'Enrique',\n",
    "    'de': 'Hans'\n",
    "}"
   ]
  },
  {
   "cell_type": "markdown",
   "metadata": {
    "slideshow": {
     "slide_type": "slide"
    }
   },
   "source": [
    "First the text is extracted by means of the *Rekognition Api*."
   ]
  },
  {
   "cell_type": "code",
   "execution_count": null,
   "metadata": {},
   "outputs": [],
   "source": [
    "# Rekognition API\n",
    "class re:\n",
    "    def connect(regionName=defaultRegion):\n",
    "        return boto3.client('rekognition', region_name=regionName)\n",
    "\n",
    "    def detectText(client, bucket, image):\n",
    "        response = client.detect_text(Image={'S3Object': {'Bucket':bucket, 'Name':image}})\n",
    "        text = '' \n",
    "        for t in response['TextDetections']:\n",
    "            if t['Type'] == 'LINE':\n",
    "                text = text+t['DetectedText']+' '\n",
    "        return text"
   ]
  },
  {
   "cell_type": "code",
   "execution_count": null,
   "metadata": {
    "slideshow": {
     "slide_type": "slide"
    }
   },
   "outputs": [],
   "source": [
    "from IPython.display import Image\n",
    "Image(boto3.resource('s3').Object(bucket, folder+image_name).get()['Body'].read())"
   ]
  },
  {
   "cell_type": "code",
   "execution_count": null,
   "metadata": {
    "scrolled": true
   },
   "outputs": [],
   "source": [
    "# Connect to the rekognition client\n",
    "rekognition = re.connect()\n",
    "# Detect the text\n",
    "text = re.detectText(rekognition, bucket, folder+image_name)\n",
    "print(\"Detected text: \" + text)"
   ]
  },
  {
   "cell_type": "markdown",
   "metadata": {
    "slideshow": {
     "slide_type": "slide"
    }
   },
   "source": [
    "Then, the extracted text is processed via the *Comprehend API* to understand the language."
   ]
  },
  {
   "cell_type": "code",
   "execution_count": null,
   "metadata": {},
   "outputs": [],
   "source": [
    "# Comprehend API\n",
    "class co:\n",
    "    def connect(regionName=defaultRegion):\n",
    "        return boto3.client('comprehend', region_name=regionName)\n",
    "\n",
    "    def detectLanguage(client,text):\n",
    "        resp = client.detect_dominant_language(Text=text)\n",
    "        return resp['Languages'][0]['LanguageCode']"
   ]
  },
  {
   "cell_type": "code",
   "execution_count": null,
   "metadata": {},
   "outputs": [],
   "source": [
    "# Connect to the Comprehend client\n",
    "comprehend = co.connect()\n",
    "# Detect the language\n",
    "language = co.detectLanguage(comprehend, text)\n",
    "print(\"Detected language: \" + language)"
   ]
  },
  {
   "cell_type": "markdown",
   "metadata": {
    "slideshow": {
     "slide_type": "slide"
    }
   },
   "source": [
    "Then, we translate this text through the *Translate API* and let the translated text be played by *Polly*."
   ]
  },
  {
   "cell_type": "code",
   "execution_count": null,
   "metadata": {},
   "outputs": [],
   "source": [
    "# Translate API\n",
    "class tr:\n",
    "    def connect(regionName=defaultRegion):\n",
    "        return boto3.client('translate', region_name=regionName)\n",
    "\n",
    "    def translateText(client, text, source, target):\n",
    "        response = client.translate_text(Text=text, SourceLanguageCode=source, TargetLanguageCode=target)\n",
    "        return response['TranslatedText']"
   ]
  },
  {
   "cell_type": "code",
   "execution_count": null,
   "metadata": {},
   "outputs": [],
   "source": [
    "# Polly API\n",
    "defaultUrl = 'https://polly.eu-west-1.amazonaws.com'\n",
    "\n",
    "class po:\n",
    "    def connect(regionName=defaultRegion, endpointUrl=defaultUrl):\n",
    "        return boto3.client('polly', region_name=regionName, endpoint_url=endpointUrl)\n",
    "\n",
    "    def play(filename):\n",
    "        pygame.init()\n",
    "        pygame.mixer.music.load(filename)\n",
    "        pygame.mixer.music.play()\n",
    "        while pygame.mixer.music.get_busy():\n",
    "            pygame.time.Clock().tick(10)\n",
    "\n",
    "    def speak(polly, text, format='ogg_vorbis', voice='Brian'):\n",
    "        filename = po.file_gen(polly, text, format, voice)\n",
    "        po.play(filename)\n",
    "        os.remove(filename)\n",
    "        \n",
    "    def file_gen(polly, text, format='ogg_vorbis', voice='Brian'):\n",
    "        filename=\"/tmp/sound.ogg\"\n",
    "        resp = polly.synthesize_speech(OutputFormat=format, Text=text, VoiceId=voice)\n",
    "        soundfile = open(filename, 'wb')\n",
    "        soundBytes = resp['AudioStream'].read()\n",
    "        soundfile.write(soundBytes)\n",
    "        soundfile.close()\n",
    "        return filename"
   ]
  },
  {
   "cell_type": "code",
   "execution_count": null,
   "metadata": {
    "slideshow": {
     "slide_type": "slide"
    }
   },
   "outputs": [],
   "source": [
    "# Connect to the Translate and the Polly client\n",
    "translate = tr.connect()\n",
    "polly = po.connect()\n",
    "\n",
    "# Read the text in different languages\n",
    "print(\"English: \" + text)\n",
    "po.speak(polly, text, voice='Brian')\n",
    "\n",
    "# Translate and read!\n",
    "for key in lan_voice.keys():\n",
    "    if key == 'en':\n",
    "        continue\n",
    "    translated_text = tr.translateText(translate, text, language, key)\n",
    "    print(key.upper()+\": \" + translated_text)\n",
    "    po.speak(polly, translated_text, voice=lan_voice.get(key))"
   ]
  },
  {
   "cell_type": "markdown",
   "metadata": {
    "slideshow": {
     "slide_type": "slide"
    }
   },
   "source": [
    "### Let's have fun!\n",
    "\n",
    "Let's build a Twitter bot, which accepts an image by means of a mention, then replies with a mention with the text recognized in the image and an audio file playing the text.\n",
    "\n",
    "![image](./billboard_schema.png)"
   ]
  },
  {
   "cell_type": "code",
   "execution_count": null,
   "metadata": {
    "slideshow": {
     "slide_type": "slide"
    }
   },
   "outputs": [],
   "source": [
    "status_saved = ''\n",
    "debug = False\n",
    "\n",
    "class MyStreamListener(TwythonStreamer):\n",
    "    \n",
    "    default_policy = {\n",
    "        \"Version\": \"2008-10-17\",\n",
    "        \"Id\": \"PolicyForPublicWebsiteContent\",\n",
    "        \"Statement\": [\n",
    "            {\n",
    "                \"Sid\": \"PublicReadGetObject\",\n",
    "                \"Effect\": \"Allow\",\n",
    "                \"Principal\": {\n",
    "                    \"AWS\": \"*\"\n",
    "                },\n",
    "                \"Action\": \"s3:GetObject\",\n",
    "                \"Resource\": [\n",
    "                    \"arn:aws:s3:::{}/{}quote.jpg\".format(bucket, folder),\n",
    "                    \"arn:aws:s3:::{}/{}billboard.jpg\".format(bucket, folder)\n",
    "                ]\n",
    "            }\n",
    "        ]\n",
    "    }\n",
    "    \n",
    "    def on_success(self, status):\n",
    "        if not self.process(status):\n",
    "            self.disconnect()\n",
    "    \n",
    "    def process(self, status):\n",
    "        global status_saved\n",
    "        if debug:\n",
    "            status_saved = status\n",
    "        # New update logic is here!\n",
    "        if '@{}'.format(twitter_username) in status['text']:\n",
    "            # The bot has been mentioned - react to it\n",
    "            try:\n",
    "                user = status['user']['screen_name']\n",
    "                text = status['text']\n",
    "                image_url = status['extended_entities']['media'][0]['media_url_https']\n",
    "            except Exception as e:\n",
    "                print('There were some problems with extracting info from the status - {}.'.format(e))\n",
    "                return (False if debug else True)\n",
    "            ######################\n",
    "            # IMAGE HANDLING\n",
    "            ######################\n",
    "            # Download the image\n",
    "            try:\n",
    "                timestamp = time.time()\n",
    "                file_ext = image_url.split('.')[-1:][0]\n",
    "                image_name = '{}-{}.{}'.format(user, timestamp, file_ext)\n",
    "                image_loc = '/tmp/{}'.format(image_name)\n",
    "                urllib.request.urlretrieve(image_url, image_loc)\n",
    "            except Exception as e:\n",
    "                print('There were some problems with downloading the image from the post - {}.'.format(e))\n",
    "                return (False if debug else True)\n",
    "            # Upload the iamge to S3\n",
    "            try:\n",
    "                s3 = boto3.client('s3')\n",
    "                # Create a folder for the user\n",
    "                folder_s3 = '{}{}-{}/'.format(folder,user,timestamp)\n",
    "                s3.put_object(Bucket=bucket, Body='', Key=folder_s3)\n",
    "                s3.put_object(Bucket=bucket, Body=open(image_loc,'rb'), Key=folder_s3+image_name)\n",
    "            except Exception as e:\n",
    "                print('There were some problems with uploading the image to S3 - {}.'.format(e))\n",
    "                return (False if debug else True)\n",
    "            ######################\n",
    "            # POLICIES HANDLING\n",
    "            ######################\n",
    "            # Test if the bucket is set for static web hosting\n",
    "            try:\n",
    "                boto3.client('s3').get_bucket_website(Bucket=bucket)\n",
    "            except Exception:\n",
    "                boto3.client('s3').put_bucket_website(\n",
    "                    Bucket=bucket,\n",
    "                    WebsiteConfiguration={\n",
    "                        'ErrorDocument': {'Key': 'error.html'},\n",
    "                        'IndexDocument': {'Suffix': 'index.html'},\n",
    "                    }\n",
    "                )\n",
    "            # Set the access in the bucket policies\n",
    "            try:\n",
    "                boto3.client('s3').get_bucket_policy(Bucket=bucket)\n",
    "            except Exception as e:\n",
    "                if 'NoSuchBucketPolicy' in str(e):\n",
    "                    bucket_policy = json.dumps(self.default_policy)\n",
    "                    boto3.client('s3').put_bucket_policy(Bucket=bucket, Policy=bucket_policy)\n",
    "                else:\n",
    "                    print('There were some problems with the bucket policy - {}.'.format(e))\n",
    "                    return (False if debug else True)   \n",
    "            try:\n",
    "                bucket_policy = boto3.resource('s3').BucketPolicy(bucket)\n",
    "                bucket_policy.reload()\n",
    "                policy = json.loads(bucket_policy.policy)\n",
    "                policy['Statement'][0]['Resource'] += ['arn:aws:s3:::{}/{}*'.format(bucket,folder_s3)]\n",
    "                bucket_policy.put(Policy=json.dumps(policy))\n",
    "                bucket_policy.reload()\n",
    "            except Exception as e:\n",
    "                print('There were some problems with updating the bucket policy - {}.'.format(e))\n",
    "                return (False if debug else True)\n",
    "            ######################\n",
    "            # REKOGNITION API\n",
    "            ######################\n",
    "            # Recognise the text via the Rekognition API\n",
    "            try:\n",
    "                rekognition = re.connect()\n",
    "                text = re.detectText(rekognition, bucket, folder_s3+image_name)\n",
    "            except Exception as e:\n",
    "                print('Rekognition API had some problems - {}.'.format(e))\n",
    "                return (False if debug else True)\n",
    "            ######################\n",
    "            # COMPREHEND API\n",
    "            ######################\n",
    "            # Detect the language via the Comprehend API\n",
    "            try:\n",
    "                comprehend = co.connect()\n",
    "                language = co.detectLanguage(comprehend, text)\n",
    "            except Exception as e:\n",
    "                print('Comprehend API had some problems - {}.'.format(e))\n",
    "                return (False if debug else True)\n",
    "            ######################\n",
    "            # POLLY API\n",
    "            ######################\n",
    "            # Generate the voice to be played\n",
    "            try:\n",
    "                polly = po.connect()\n",
    "                soundfile = po.file_gen(polly, text, voice=lan_voice[language])\n",
    "            except Exception as e:\n",
    "                print('Polly API had some problems - {}.'.format(e))\n",
    "                return (False if debug else True)\n",
    "            ######################\n",
    "            # SOUND AND HTML UPLOAD\n",
    "            ######################\n",
    "            # Prepare the folder with the content to serve\n",
    "            try:\n",
    "                folder_url = 'http://{}.s3-website-{}.amazonaws.com/{}'.format(bucket, defaultRegion, folder_s3)\n",
    "                # upload the audio file to S3\n",
    "                s3.put_object(Bucket=bucket, Body=open(soundfile,'rb'), Key=folder_s3+'audio.ogg', ContentType='audio/ogg')\n",
    "                # upload the HTML and robots files to generate the player card\n",
    "                with open('html/index.html', 'r') as file :\n",
    "                    filedata = file.read()\n",
    "                    filedata = filedata.replace('$$$$', folder_url+'container.html')\n",
    "                s3.put_object(Bucket=bucket, Body=filedata.encode(), Key=folder_s3+'index.html', ContentType='text/html')\n",
    "                s3.put_object(Bucket=bucket, Body=open('html/container.html','rb'), Key=folder_s3+'container.html', ContentType='text/html')\n",
    "                s3.put_object(Bucket=bucket, Body=open('html/robots.txt','rb'), Key=folder_s3+'robots.txt', ContentType='text/plain')\n",
    "            except Exception as e:\n",
    "                print('Uploading to S3 has caused some problems - {}.'.format(e))\n",
    "                return (False if debug else True)\n",
    "            ######################\n",
    "            # RESPOND TO THE TWEET\n",
    "            ######################\n",
    "            # Post about the detected text\n",
    "            try:\n",
    "                # TODO: should work by just specifying index.html instead of audio.ogg - but for some reason it does not.\n",
    "                audio_url = 'http://{}.s3-website-{}.amazonaws.com/{}audio.ogg'.format(bucket, defaultRegion, folder_s3)\n",
    "                tweet = 'Hi @{} . I detected text in {}, saying: \"{}\" - {}'.format(user, language.upper(), text, audio_url)\n",
    "                api.update_status(status=tweet)\n",
    "            except Exception as e:\n",
    "                print('There were some issues in posting the response - {}.'.format(e))\n",
    "                return (False if debug else True)\n",
    "            print('Completed posting for {}'.format(folder_s3))\n",
    "            return (False if debug else True) # Return false to disconnect the stream\n",
    "        \n",
    "    def on_error(self, status_code, data):\n",
    "        ######################\n",
    "        # ERROR STATUS CODE HANDLING\n",
    "        ######################\n",
    "        if status_code == 410:\n",
    "            print('[{}] The requested resource was not found - API is offline.'.format(status_code))\n",
    "            self.disconnect()\n",
    "        elif status_code == 420:\n",
    "            print('[{}] Exceeded connection limit for user.'.format(status_code))\n",
    "            self.disconnect()\n",
    "        elif status_code == 500:\n",
    "            print('[{}] Internal Server Error.'.format(status_code))\n",
    "            self.disconnect()\n",
    "        elif status_code == 502:\n",
    "            print('[{}] Twitter is offline.'.format(status_code))\n",
    "            self.disconnect()\n",
    "        else:\n",
    "            print('[{}] Unknown error code - dropping connection.'.format(status_code))\n",
    "            self.disconnect()"
   ]
  },
  {
   "cell_type": "code",
   "execution_count": null,
   "metadata": {
    "slideshow": {
     "slide_type": "slide"
    }
   },
   "outputs": [],
   "source": [
    "try:\n",
    "    # Connect the stream\n",
    "    stream = MyStreamListener(cons_key, cons_secret, access_key, access_secret)\n",
    "    print('Stream Listener is now ready to serve! Listening user: {}'.format(twitter_username))\n",
    "    # Start listening for incoming mentions\n",
    "    stream.statuses.filter(track=[twitter_username])\n",
    "except KeyboardInterrupt:\n",
    "    print('SIGTERM received. Killing Stream Listener ...')\n",
    "    stream.disconnect()"
   ]
  },
  {
   "cell_type": "code",
   "execution_count": null,
   "metadata": {},
   "outputs": [],
   "source": []
  }
 ],
 "metadata": {
  "celltoolbar": "Slideshow",
  "kernelspec": {
   "display_name": "Python 3",
   "language": "python",
   "name": "python3"
  },
  "language_info": {
   "codemirror_mode": {
    "name": "ipython",
    "version": 3
   },
   "file_extension": ".py",
   "mimetype": "text/x-python",
   "name": "python",
   "nbconvert_exporter": "python",
   "pygments_lexer": "ipython3",
   "version": "3.6.5"
  }
 },
 "nbformat": 4,
 "nbformat_minor": 2
}
